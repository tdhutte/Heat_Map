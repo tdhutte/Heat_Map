{
  "nbformat": 4,
  "nbformat_minor": 0,
  "metadata": {
    "colab": {
      "name": "TrentH-HeatMap.ipynb",
      "provenance": []
    },
    "kernelspec": {
      "name": "python3",
      "display_name": "Python 3"
    },
    "language_info": {
      "name": "python"
    }
  },
  "cells": [
    {
      "cell_type": "code",
      "execution_count": 8,
      "metadata": {
        "colab": {
          "base_uri": "https://localhost:8080/",
          "height": 491
        },
        "id": "qDEOGhMrsiwe",
        "outputId": "d40aae46-0148-405f-bd79-42e71d22cc0e"
      },
      "outputs": [
        {
          "output_type": "stream",
          "name": "stdout",
          "text": [
            "Likelihood  0.1  0.2  0.3  0.5\n",
            "Impact                        \n",
            "1           NaN  0.2  NaN  NaN\n",
            "2           NaN  NaN  0.6  NaN\n",
            "7           0.7  NaN  NaN  NaN\n",
            "10          NaN  NaN  NaN  5.0\n",
            "Likelihood     0.1    0.2   0.3       0.5\n",
            "Impact                                   \n",
            "1              NaN  Users   NaN       NaN\n",
            "2              NaN    NaN  Team       NaN\n",
            "7           Budget    NaN   NaN       NaN\n",
            "10             NaN    NaN   NaN  Security\n"
          ]
        },
        {
          "output_type": "display_data",
          "data": {
            "image/png": "[encoded data removed]",
            "text/plain": [
              "<Figure size 432x288 with 2 Axes>"
            ]
          },
          "metadata": {
            "needs_background": "light"
          }
        }
      ],
      "source": [
        "# library\n",
        "import seaborn as sns\n",
        "import pandas as pd\n",
        "import numpy as np\n",
        "\n",
        "# Create a dataframe (data table)\n",
        "df=pd.DataFrame(columns=['Risk','Likelihood','Impact','Score'])\n",
        "\n",
        "df['Risk']=['Users','Team','Budget','Security']\n",
        "\n",
        "df['Likelihood']=[0.2,0.3,0.1,0.5]\n",
        "\n",
        "df['Impact']=[1,2,7,10]\n",
        "\n",
        "df['Score']=df['Impact']*df['Likelihood']\n",
        "\n",
        "scoresPivot=df.pivot('Impact','Likelihood','Score')\n",
        "print(scoresPivot)\n",
        "\n",
        "labelsPivot=df.pivot('Impact','Likelihood','Risk')\n",
        "print(labelsPivot)\n",
        "\n",
        "#replace no labels with empty string\n",
        "\n",
        "\n",
        "#simple heatmap\n",
        "p1=sns.heatmap(scoresPivot, cmap=\"YlGnBu\",annot=labelsPivot, fmt='')"
      ]
    }
  ]
}